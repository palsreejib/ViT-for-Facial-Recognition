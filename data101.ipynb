{
 "cells": [
  {
   "cell_type": "markdown",
   "id": "0b50aa21-5f96-49d6-b59a-cdd3cc4d63b2",
   "metadata": {},
   "source": [
    "# Data Download and Folder Formatting"
   ]
  },
  {
   "cell_type": "markdown",
   "id": "b16f8bbc-a2bc-4593-9554-c000f5ffaba1",
   "metadata": {},
   "source": [
    "Setting up device-agnostic code"
   ]
  },
  {
   "cell_type": "code",
   "execution_count": 3,
   "id": "a4164f3a-22df-4056-9104-524c0ab4cb55",
   "metadata": {},
   "outputs": [
    {
     "data": {
      "text/plain": [
       "'cuda'"
      ]
     },
     "execution_count": 3,
     "metadata": {},
     "output_type": "execute_result"
    }
   ],
   "source": [
    "import torch\n",
    "\n",
    "device = 'cuda' if torch.cuda.is_available() else 'cpu'\n",
    "device"
   ]
  },
  {
   "cell_type": "markdown",
   "id": "4b25e645-9e7f-4472-b555-f896d00b582f",
   "metadata": {},
   "source": [
    "## Download Data \n",
    "\n",
    "Downlaod data from Kaggle using `opendatsets`"
   ]
  },
  {
   "cell_type": "code",
   "execution_count": 4,
   "id": "db92b0f8-5d42-44c8-9a36-7ad1e96b82d9",
   "metadata": {},
   "outputs": [
    {
     "name": "stdout",
     "output_type": "stream",
     "text": [
      "Please provide your Kaggle credentials to download this dataset. Learn more: http://bit.ly/kaggle-creds\n",
      "Your Kaggle username:"
     ]
    },
    {
     "name": "stdin",
     "output_type": "stream",
     "text": [
      "  sreejibpal\n"
     ]
    },
    {
     "name": "stdout",
     "output_type": "stream",
     "text": [
      "Your Kaggle Key:"
     ]
    },
    {
     "name": "stdin",
     "output_type": "stream",
     "text": [
      "  ········\n"
     ]
    },
    {
     "name": "stdout",
     "output_type": "stream",
     "text": [
      "Dataset URL: https://www.kaggle.com/datasets/bhaveshmittal/celebrity-face-recognition-dataset\n",
      "Downloading celebrity-face-recognition-dataset.zip to .\\celebrity-face-recognition-dataset\n"
     ]
    },
    {
     "name": "stderr",
     "output_type": "stream",
     "text": [
      "100%|█████████████████████████████████████████████████████████████████████████████████████████████████████████████████| 34.0M/34.0M [00:31<00:00, 1.12MB/s]\n"
     ]
    },
    {
     "name": "stdout",
     "output_type": "stream",
     "text": [
      "\n"
     ]
    }
   ],
   "source": [
    "import opendatasets as od\n",
    "\n",
    "od.download('https://www.kaggle.com/datasets/bhaveshmittal/celebrity-face-recognition-dataset')"
   ]
  },
  {
   "cell_type": "markdown",
   "id": "b78c25fc-65cd-4255-9b0c-50a2c06b3c65",
   "metadata": {},
   "source": [
    "## Formating Data Directory\n",
    "\n",
    "* Make a common directory `data` to house the entire dataset\n",
    "* make `test` and `train` directories\n",
    "* under the `test` and `train` directories house each of 18 classes of data with the 80/20 split respectively"
   ]
  },
  {
   "cell_type": "code",
   "execution_count": 13,
   "id": "9ab7cb82-a49c-4b4e-9715-5b46863197ae",
   "metadata": {},
   "outputs": [
    {
     "name": "stdout",
     "output_type": "stream",
     "text": [
      "Processed Angelina Jolie: 80 train, 20 test images\n",
      "Processed Brad Pitt: 80 train, 20 test images\n",
      "Processed Denzel Washington: 80 train, 20 test images\n",
      "Processed Hugh Jackman: 80 train, 20 test images\n",
      "Processed Jennifer Lawrence: 80 train, 20 test images\n",
      "Processed Johnny Depp: 80 train, 20 test images\n",
      "Processed Kate Winslet: 80 train, 20 test images\n",
      "Processed Leonardo DiCaprio: 80 train, 20 test images\n",
      "Processed Megan Fox: 80 train, 20 test images\n",
      "Processed Natalie Portman: 80 train, 20 test images\n",
      "Processed Nicole Kidman: 80 train, 20 test images\n",
      "Processed Robert Downey Jr: 80 train, 20 test images\n",
      "Processed Sandra Bullock: 80 train, 20 test images\n",
      "Processed Scarlett Johansson: 160 train, 40 test images\n",
      "Processed Tom Cruise: 80 train, 20 test images\n",
      "Processed Tom Hanks: 80 train, 20 test images\n",
      "Processed Will Smith: 80 train, 20 test images\n",
      "Dataset reorganization complete!\n"
     ]
    }
   ],
   "source": [
    "import os\n",
    "import shutil\n",
    "import random\n",
    "from pathlib import Path\n",
    "\n",
    "# Set your paths\n",
    "source_dir = \"D:/DOCUMENTS/IQUISITIONIS/203_VITFACIALRECC/CELEBRITY-FACE-RECOGNITION-DATASET\"\n",
    "target_dir = \"D:/DOCUMENTS/IQUISITIONIS/203_VITFACIALRECC/data/CELEBRITY-FACE-RECOGNITION-DATASET\"\n",
    "test_ratio = 0.2  # 20% for test, 80% for train\n",
    "\n",
    "# Create target directory structure\n",
    "os.makedirs(target_dir, exist_ok=True)\n",
    "\n",
    "# Process each celebrity folder\n",
    "for celebrity in os.listdir(source_dir):\n",
    "    celeb_path = os.path.join(source_dir, celebrity)\n",
    "    if not os.path.isdir(celeb_path):\n",
    "        continue\n",
    "    \n",
    "    # Create train and test directories for this celebrity\n",
    "    train_dir = os.path.join(target_dir, \"train\", celebrity)\n",
    "    test_dir = os.path.join(target_dir, \"test\", celebrity)\n",
    "    os.makedirs(train_dir, exist_ok=True)\n",
    "    os.makedirs(test_dir, exist_ok=True)\n",
    "    \n",
    "    # Get all image files for this celebrity\n",
    "    images = [f for f in os.listdir(celeb_path) if os.path.isfile(os.path.join(celeb_path, f))]\n",
    "    \n",
    "    # Shuffle and split\n",
    "    random.shuffle(images)\n",
    "    split_idx = int(len(images) * test_ratio)\n",
    "    test_images = images[:split_idx]\n",
    "    train_images = images[split_idx:]\n",
    "    \n",
    "    # Copy files to their new locations\n",
    "    for img in test_images:\n",
    "        src = os.path.join(celeb_path, img)\n",
    "        dst = os.path.join(test_dir, img)\n",
    "        shutil.copy2(src, dst)\n",
    "    \n",
    "    for img in train_images:\n",
    "        src = os.path.join(celeb_path, img)\n",
    "        dst = os.path.join(train_dir, img)\n",
    "        shutil.copy2(src, dst)\n",
    "    \n",
    "    print(f\"Processed {celebrity}: {len(train_images)} train, {len(test_images)} test images\")\n",
    "\n",
    "print(\"Dataset reorganization complete!\")"
   ]
  },
  {
   "cell_type": "markdown",
   "id": "fb5e27dc-468f-481d-9242-2d9a8454342f",
   "metadata": {},
   "source": [
    "### Cuurent file format"
   ]
  },
  {
   "cell_type": "code",
   "execution_count": 15,
   "id": "a7810377-526e-4971-84b4-3e2354cf9b1d",
   "metadata": {},
   "outputs": [
    {
     "name": "stdout",
     "output_type": "stream",
     "text": [
      "Folder PATH listing for volume New Volume\n",
      "Volume serial number is 6E54-8444\n",
      "D:\\DOCUMENTS\\IQUISITIONIS\\203_VITFACIALRECC\\DATA\n",
      "+---CELEBRITY-FACE-RECOGNITION-DATASET\n",
      "    +---test\n",
      "    ¦   +---Angelina Jolie\n",
      "    ¦   +---Brad Pitt\n",
      "    ¦   +---Denzel Washington\n",
      "    ¦   +---Hugh Jackman\n",
      "    ¦   +---Jennifer Lawrence\n",
      "    ¦   +---Johnny Depp\n",
      "    ¦   +---Kate Winslet\n",
      "    ¦   +---Leonardo DiCaprio\n",
      "    ¦   +---Megan Fox\n",
      "    ¦   +---Natalie Portman\n",
      "    ¦   +---Nicole Kidman\n",
      "    ¦   +---Robert Downey Jr\n",
      "    ¦   +---Sandra Bullock\n",
      "    ¦   +---Scarlett Johansson\n",
      "    ¦   +---Tom Cruise\n",
      "    ¦   +---Tom Hanks\n",
      "    ¦   +---Will Smith\n",
      "    +---train\n",
      "        +---Angelina Jolie\n",
      "        +---Brad Pitt\n",
      "        +---Denzel Washington\n",
      "        +---Hugh Jackman\n",
      "        +---Jennifer Lawrence\n",
      "        +---Johnny Depp\n",
      "        +---Kate Winslet\n",
      "        +---Leonardo DiCaprio\n",
      "        +---Megan Fox\n",
      "        +---Natalie Portman\n",
      "        +---Nicole Kidman\n",
      "        +---Robert Downey Jr\n",
      "        +---Sandra Bullock\n",
      "        +---Scarlett Johansson\n",
      "        +---Tom Cruise\n",
      "        +---Tom Hanks\n",
      "        +---Will Smith\n"
     ]
    }
   ],
   "source": [
    "!tree \"D:\\Documents\\Iquisitionis\\203_ViTFacialRecc\\data\""
   ]
  },
  {
   "cell_type": "code",
   "execution_count": null,
   "id": "5e84c180-1fcf-4c06-9f74-60e46c5fea13",
   "metadata": {},
   "outputs": [],
   "source": []
  }
 ],
 "metadata": {
  "kernelspec": {
   "display_name": "Python 3 (ipykernel)",
   "language": "python",
   "name": "python3"
  },
  "language_info": {
   "codemirror_mode": {
    "name": "ipython",
    "version": 3
   },
   "file_extension": ".py",
   "mimetype": "text/x-python",
   "name": "python",
   "nbconvert_exporter": "python",
   "pygments_lexer": "ipython3",
   "version": "3.8.20"
  }
 },
 "nbformat": 4,
 "nbformat_minor": 5
}
